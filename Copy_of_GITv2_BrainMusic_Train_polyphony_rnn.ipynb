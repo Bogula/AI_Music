{
  "nbformat": 4,
  "nbformat_minor": 0,
  "metadata": {
    "colab": {
      "name": "Copy of GITv2_BrainMusic_Train_polyphony_rnn.ipynb",
      "provenance": [],
      "collapsed_sections": [
        "R-JSJ5d8xkXJ"
      ],
      "include_colab_link": true
    },
    "kernelspec": {
      "name": "python3",
      "display_name": "Python 3"
    },
    "accelerator": "GPU"
  },
  "cells": [
    {
      "cell_type": "markdown",
      "metadata": {
        "id": "view-in-github",
        "colab_type": "text"
      },
      "source": [
        "<a href=\"https://colab.research.google.com/github/Bogula/AI_Music/blob/main/Copy_of_GITv2_BrainMusic_Train_polyphony_rnn.ipynb\" target=\"_parent\"><img src=\"https://colab.research.google.com/assets/colab-badge.svg\" alt=\"Open In Colab\"/></a>"
      ]
    },
    {
      "cell_type": "markdown",
      "metadata": {
        "id": "9RqJvWDsFf63"
      },
      "source": [
        "This is a modified copy of the Brain Music Polyphony Training Notebook form Raquel Bujalance and Cecil Fernandez Briche.\n",
        "I modified some of the paths for a workshop I held at the SAAI Symposium on Aug 8, 2021 to test this out with the participants. The original notebook can be found here: https://github.com/brainmusic/models\n"
      ]
    },
    {
      "cell_type": "markdown",
      "metadata": {
        "id": "9t4ZJ3q5hftP"
      },
      "source": [
        "Licensed under the Apache [License](https://www.apache.org/licenses)\n",
        "\n",
        "Unless required by applicable law or agreed to in writing, software distributed under the License is distributed on an \"AS IS\" BASIS, WITHOUT WARRANTIES OR CONDITIONS OF ANY KIND, either express or implied. See the License for the specific language governing permissions and limitations under the License.\n",
        "\n",
        "\n",
        "---\n",
        "\n"
      ]
    },
    {
      "cell_type": "markdown",
      "metadata": {
        "id": "m8lGTfVviZ_R"
      },
      "source": [
        "# Brain Music. Polyphony RNN Training\n",
        "Raquel Bujalance and Cecil Fernandez Briche\n",
        "\n",
        "This colab notebook lets you to train Polyphony RNN for music generation, based on [Magenta library](https://github.com/tensorflow/magenta/tree/master/magenta/models/polyphony_rnn).This model applies language modeling using an LSTM to polyphonic music generation.\n",
        "\n",
        "The notebook has been created to help anyone who wants to try training their own polyphony model using Magenta library, step by step, in colab. We have trained it with different samples linked to emotions, you can see the results in [post].\n",
        "\n",
        "\n",
        "Instructions for running:\n",
        "Make sure to use a GPU runtime, click: Runtime >> Change Runtime Type >> GPU\n",
        "Double-click any of the hidden cells to view the code.\n",
        "\n",
        "Note: If you are going to train a heavy model keep in mind that google can restrict the use of [GPUs](https://research.google.com/colaboratory/faq.html#gpu-availability), \"It is possible that a user who uses Colaboratory for long term calculations has a temporary restriction on the type of hardware available to him or the time during which he can use it. We encourage users with significant computing needs to use the Colaboratory UI with a local execution environment.\"\n",
        "\n",
        "\n",
        "\n",
        "---\n",
        "\n"
      ]
    },
    {
      "cell_type": "markdown",
      "metadata": {
        "id": "mQgJ6x2UtPCs"
      },
      "source": [
        "# Environment Setup\n",
        "Install magenta and fluidsynth, a sequence synthesis."
      ]
    },
    {
      "cell_type": "code",
      "metadata": {
        "id": "3uq7cNslgQQS",
        "cellView": "form"
      },
      "source": [
        "#@title Install\n",
        "\n",
        "#@markdown Install magenta and fluidsynth as a synthesizer to listen de audios.\n",
        " #@markdown Magenta is compatible with both Python 2 and 3.\n",
        " #@markdown This take some time, specially for fluidsynth installation\n",
        "\n",
        "!apt-get update -qq && apt-get install -qq libfluidsynth1 fluid-soundfont-gm build-essential libasound2-dev libjack-dev\n",
        "!pip install -qU pyfluidsynth pretty_midi\n",
        "\n",
        "!pip install magenta\n",
        "\n",
        "# Hack to allow python to pick up the newly-installed fluidsynth lib. \n",
        "# This is only needed for the hosted Colab environment.\n",
        "import ctypes.util\n",
        "orig_ctypes_util_find_library = ctypes.util.find_library\n",
        "def proxy_find_library(lib):\n",
        "  if lib == 'fluidsynth':\n",
        "    return 'libfluidsynth.so.1'\n",
        "  else:\n",
        "    return orig_ctypes_util_find_library(lib)\n",
        "ctypes.util.find_library = proxy_find_library"
      ],
      "execution_count": null,
      "outputs": []
    },
    {
      "cell_type": "markdown",
      "metadata": {
        "id": "gTU9nEcdj26b"
      },
      "source": [
        "##**SUBFOLDERS**\n",
        "\n",
        "In oder to make this work you need to create 4 subdirectories:\n",
        "\n",
        "midi - for the initial midi files\n",
        "\n",
        "miditf - for the converted tensor flow input data\n",
        "\n",
        "midirun - for the model\n",
        "\n",
        "midiout - for the generated midi files\n"
      ]
    },
    {
      "cell_type": "code",
      "metadata": {
        "id": "Xx1ptrjdi3A4",
        "colab": {
          "base_uri": "https://localhost:8080/"
        },
        "outputId": "b297bff5-f482-4fbd-b835-e29a3bd73097"
      },
      "source": [
        "#@title Drive Setup\n",
        "#@markdown If your training sample is in google drive you need to connect it. \n",
        "#@markdown You can also upload the data to a temporary folder but it will be \n",
        "#@markdown lost when the session is closed.\n",
        "from google.colab import drive\n",
        "drive.mount('/content/drive')"
      ],
      "execution_count": 2,
      "outputs": [
        {
          "output_type": "stream",
          "text": [
            "Mounted at /content/drive\n"
          ],
          "name": "stdout"
        }
      ]
    },
    {
      "cell_type": "code",
      "metadata": {
        "id": "O976jh2chLLp",
        "cellView": "form"
      },
      "source": [
        "#@title Import Dependencies\n",
        "#@markdown Import libraries from Magenta, Tensorflow and Numpy\n",
        "\n",
        "from google.colab import files\n",
        "import numpy as np\n",
        "import os\n",
        "import tensorflow as tf\n",
        "import magenta.music as mm\n",
        "import magenta\n",
        "from magenta.scripts import convert_dir_to_note_sequences\n",
        "from magenta.models.polyphony_rnn import *\n",
        "\n"
      ],
      "execution_count": null,
      "outputs": []
    },
    {
      "cell_type": "markdown",
      "metadata": {
        "id": "R-JSJ5d8xkXJ"
      },
      "source": [
        "# Sample Adaptation\n",
        "\n",
        "Magenta does not work directly with Midi files but with NoteSequences, so the first step to create the sample is to convert the Midi files into Note sequences files and pack them as tfrecord to work with them fast and efficiently."
      ]
    },
    {
      "cell_type": "markdown",
      "metadata": {
        "id": "UqVTh_Xs56vN"
      },
      "source": [
        "\n",
        "You need to define the folder with the midi files, as well as the\n",
        "folder in which the notesequence will be saved. Change the routes from below to your own folders. The output of this step (notesequences)  can be saved directly as a temporary file, e.g. '/tmp/notesequences.tfrecord'  instead of on drive, since after the next step in which the sample is split it would no longer be necessary.  \n",
        "\n",
        "Tip for novices: You can see the path of the folder to the left in files and with the mouse button select \"copy path\". As the route usually contains   \"My drive\" remember to enter \"\\\\\"  in the middel as \"My \\ drive\"."
      ]
    },
    {
      "cell_type": "code",
      "metadata": {
        "id": "Ksd7ZJLG55Ue"
      },
      "source": [
        "!convert_dir_to_note_sequences \\\n",
        "--input_dir=/content/drive/MyDrive/midi/ \\\n",
        "--output_file=/temp/notesequences.tfrecord \\\n",
        "--log=INFO"
      ],
      "execution_count": null,
      "outputs": []
    },
    {
      "cell_type": "markdown",
      "metadata": {
        "id": "oMfaieWF6tLe"
      },
      "source": [
        "Now you are ready to separate your sample between train and test. The percentage you leave in the test for evaluate your model is defined with the eval ratio argument. For example with a eval ratio equal to 10%, the 90% of the sample will be saved in the traing collection, while the remaining 10% will be stored as evaluation sample.\n",
        "\n",
        "The input for this step must match the one defined as output in the previous step.\n"
      ]
    },
    {
      "cell_type": "code",
      "metadata": {
        "id": "uIC9rvO2FfiR"
      },
      "source": [
        "#test and train sample split wih 10% ratio\n",
        "!polyphony_rnn_create_dataset \\\n",
        "--input=/temp/notesequences.tfrecord \\\n",
        "--output_dir=/content/drive/MyDrive/miditf \\\n",
        "--eval_ratio=0.10 \\\n",
        "--config='polyphony'"
      ],
      "execution_count": null,
      "outputs": []
    },
    {
      "cell_type": "markdown",
      "metadata": {
        "id": "Aj5VWN5k87qM"
      },
      "source": [
        "If the cell has been executed correctly, you have to have two files saved in the output_dir, both in tfrecord format, one with the training sample and one with the eval sample. \n"
      ]
    },
    {
      "cell_type": "markdown",
      "metadata": {
        "id": "z0-HHl_H5bKE"
      },
      "source": [
        "# Model Training\n",
        "Now you are ready to train your model!\n",
        "\n",
        "This step can take a long, long time and depending on how large your database is and the number of layers and their size, you may get a memory error, or lose the connection to the GPU.\n",
        "\n",
        "We recommend you to start with a small sample and a light model for example a bach size of 64 and two LSTM rnn layers of 64, \"batch_size=64,rnn_layer_sizes=[64,64]\" and incorporate more complexity little by little. If you save the checkpoints you can re-launch the training at the point where you left the previous session, this is especially interesting if you lose the web connection or your session closes unexpectedly.  \n",
        "\n",
        "\n",
        "To train the model you can define the following parameters: \n",
        "* **run_dir** is the directory where checkpoints and TensorBoard data will be stored.\n",
        "* **sequence_example_file** is the TFRecord file with the train sample, the folder  must be the same as the one defined in output_dir in the previous step .\n",
        "* **num_training_steps** is an optional parameter for how many update steps to take before exiting the training loop. By default, training will run continuously until manually terminated.\n",
        "* **hparams** is another optional parameter that specifies the hyperparameters you want to use; batch size and RNN Layers in a vector with the units considered in each layer. \n",
        "* **dropout_keep_prob** is a optional parameter to reduce overfitting and improving model performance. Dropout is a regularization method to select randomly a % of neurons in the LSTM units thats are probabilistically excluded from activation and weight updates while training the model. \n",
        "* **learning_rate** is another optional parameter that controls how quickly or slowly a neural network model learns. This value is usually between 0.0 and 1.0, a learning rate too small may result in a long training process that could get stuck, whereas a value too large may result in an unstable training process.\n",
        "* **clip_norm** is another optional parameter. Gradient clipping clips parameters' gradients during backpropagation by a maximum norm to prevent Vanishing/Exploding gradients.\n",
        "\n",
        "By default polyphony_rnn model use this configuration: \n",
        "* batch_size=64,\n",
        "* rnn_layer_sizes=[256, 256, 256]\n",
        "* dropout_keep_prob=0.5\n",
        "* learning_rate=0.001\n",
        "* clip_norm=5\n",
        "\n",
        "Tip for novices: if you change the hyperparameters, for example by increasing the number of layers, remember to change the directory where the checkpoints are stored, otherwise the model will try to link to the last training and will give you an error of layer dimensions. \n"
      ]
    },
    {
      "cell_type": "code",
      "metadata": {
        "id": "Y9LAnyFhPUOW"
      },
      "source": [
        "#Train the model!\n",
        "!polyphony_rnn_train \\\n",
        "--run_dir=/content/drive/MyDrive/midirun/run1 \\\n",
        "--sequence_example_file=/content/drive/MyDrive/miditf/training_poly_tracks.tfrecord \\\n",
        "--num_training_steps=1000 \\\n",
        "--hparams=\"batch_size=4,rnn_layer_sizes=[128,128,128]\" \\\n",
        "--config='polyphony' \\\n",
        "--num_checkpoints=10\n"
      ],
      "execution_count": null,
      "outputs": []
    },
    {
      "cell_type": "markdown",
      "metadata": {
        "id": "VRMi2Cd4MleX"
      },
      "source": [
        "When you consider that the model is sufficiently tuned you can keep it in a bundle file. This allows you to import the trained model at any time and use it to create new sequences. To save it you have to call the same function of the previous step polyphony_rnn_generate, but changing some of the parameterization\n",
        "\n",
        "*   the run directory has to be the same as in previous step \n",
        "*   hparam must also be the same as those defined in the training. \n",
        "*   bundle_file is the path where to save the file with the model.mag\n",
        "\n",
        "\n",
        "\n",
        "\n",
        "\n",
        "\n",
        "\n"
      ]
    },
    {
      "cell_type": "code",
      "metadata": {
        "id": "ilUtMeudzrHD"
      },
      "source": [
        "#Save your model \n",
        "!polyphony_rnn_generate \\\n",
        "--run_dir=/content/drive/MyDrive/midirun/run1 \\\n",
        "--hparams=\"batch_size=64,rnn_layer_sizes=[128,128,128]\" \\\n",
        "--bundle_file=/content/drive/MyDrive/midirun/run1/my_poly_rnn.mag \\\n",
        "--config='polyphony' \\\n",
        "--save_generator_bundle"
      ],
      "execution_count": null,
      "outputs": []
    },
    {
      "cell_type": "markdown",
      "metadata": {
        "id": "_6O27QcYPMQS"
      },
      "source": [
        "# Generating polyphonic tracks \n",
        "New tracks can be generated from the last saved checkpoint of the model (save in run_dir) or from the bundle, here is an example of both features. \n",
        "In addition the sequence can be started from the first notes of a midi file or directly by giving the notes. \n",
        "\n",
        "##Generation from a check point\n",
        "When you create a new melody from the last checkpoint trained you can do it at the end of the process or during the training to analyze the fit of the model. The training function also allows you to evaluate the model in the test sample, but what better test than the human ear? \n",
        "In fact this type of models are usually evaluated through listening test when  participants are asked to rate the generated sample in terms of the Likert scale, see for example the evaluation of [music transformed model](https://arxiv.org/pdf/1809.04281.pdf). \n",
        "As in the previous cases the run_dir must be the same path where the checkpoints have been saved, in output_dir you must put the path of the directory where you want to save the new creations. \n",
        "num_outputs gives the number of samples to generate and num_steps the length of the track. \n",
        "In this case, the generation is produced from three notes in Midi [language](https://newt.phys.unsw.edu.au/jw/notes.html) inserted as primer_pitches.\n",
        "\n",
        "\n",
        "\n"
      ]
    },
    {
      "cell_type": "code",
      "metadata": {
        "id": "gkcTsnITxCWq"
      },
      "source": [
        "#generate new track with the trained model from a sequence of notes\n",
        "!polyphony_rnn_generate \\\n",
        "--config='polyphony' \\\n",
        "--run_dir=/content/drive/MyDrive/midirun/run1 \\\n",
        "--output_dir=/content/drive/MyDrive/midiout/poly_train1 \\\n",
        "--hparams=\"batch_size=64,rnn_layer_sizes=[128,128,128]\" \\\n",
        "--num_outputs=10 \\\n",
        "--num_steps=200 \\\n",
        "--primer_pitches=\"[67,64,60]\" \\\n",
        "--condition_on_primer=true \\\n",
        "--inject_primer_during_generation=false"
      ],
      "execution_count": null,
      "outputs": []
    },
    {
      "cell_type": "markdown",
      "metadata": {
        "id": "V2CSswPPxTNH"
      },
      "source": [
        "But to create a richer structure, it is better to start the sequence with a few seconds of a real track, this can be done by replacing primer_pitches by primer_midi, you have included the midi path you want to use. \n",
        "It is recommended to use only a few seconds, so before using it you can use the magenta library to extract some notes and save it in a temporal folder. \n"
      ]
    },
    {
      "cell_type": "code",
      "metadata": {
        "id": "SGlHFcsD4iJq",
        "colab": {
          "base_uri": "https://localhost:8080/",
          "height": 238
        },
        "outputId": "46bf6e7f-28f7-4aa6-a69d-4cc8a4dbe2de"
      },
      "source": [
        "#Choose your own MIDI file\n",
        "primer_midi=(\"/content/drive/MyDrive/midiout/poly_train1/2021-08-08_110152_01.mid\")\n",
        "primer_ns=mm.midi_file_to_note_sequence(primer_midi)\n",
        "mm.plot_sequence(primer_ns)\n"
      ],
      "execution_count": null,
      "outputs": [
        {
          "output_type": "display_data",
          "data": {
            "application/javascript": [
              "\n",
              "(function(root) {\n",
              "  function now() {\n",
              "    return new Date();\n",
              "  }\n",
              "\n",
              "  var force = true;\n",
              "\n",
              "  if (typeof root._bokeh_onload_callbacks === \"undefined\" || force === true) {\n",
              "    root._bokeh_onload_callbacks = [];\n",
              "    root._bokeh_is_loading = undefined;\n",
              "  }\n",
              "\n",
              "  var JS_MIME_TYPE = 'application/javascript';\n",
              "  var HTML_MIME_TYPE = 'text/html';\n",
              "  var EXEC_MIME_TYPE = 'application/vnd.bokehjs_exec.v0+json';\n",
              "  var CLASS_NAME = 'output_bokeh rendered_html';\n",
              "\n",
              "  /**\n",
              "   * Render data to the DOM node\n",
              "   */\n",
              "  function render(props, node) {\n",
              "    var script = document.createElement(\"script\");\n",
              "    node.appendChild(script);\n",
              "  }\n",
              "\n",
              "  /**\n",
              "   * Handle when an output is cleared or removed\n",
              "   */\n",
              "  function handleClearOutput(event, handle) {\n",
              "    var cell = handle.cell;\n",
              "\n",
              "    var id = cell.output_area._bokeh_element_id;\n",
              "    var server_id = cell.output_area._bokeh_server_id;\n",
              "    // Clean up Bokeh references\n",
              "    if (id != null && id in Bokeh.index) {\n",
              "      Bokeh.index[id].model.document.clear();\n",
              "      delete Bokeh.index[id];\n",
              "    }\n",
              "\n",
              "    if (server_id !== undefined) {\n",
              "      // Clean up Bokeh references\n",
              "      var cmd = \"from bokeh.io.state import curstate; print(curstate().uuid_to_server['\" + server_id + \"'].get_sessions()[0].document.roots[0]._id)\";\n",
              "      cell.notebook.kernel.execute(cmd, {\n",
              "        iopub: {\n",
              "          output: function(msg) {\n",
              "            var id = msg.content.text.trim();\n",
              "            if (id in Bokeh.index) {\n",
              "              Bokeh.index[id].model.document.clear();\n",
              "              delete Bokeh.index[id];\n",
              "            }\n",
              "          }\n",
              "        }\n",
              "      });\n",
              "      // Destroy server and session\n",
              "      var cmd = \"import bokeh.io.notebook as ion; ion.destroy_server('\" + server_id + \"')\";\n",
              "      cell.notebook.kernel.execute(cmd);\n",
              "    }\n",
              "  }\n",
              "\n",
              "  /**\n",
              "   * Handle when a new output is added\n",
              "   */\n",
              "  function handleAddOutput(event, handle) {\n",
              "    var output_area = handle.output_area;\n",
              "    var output = handle.output;\n",
              "\n",
              "    // limit handleAddOutput to display_data with EXEC_MIME_TYPE content only\n",
              "    if ((output.output_type != \"display_data\") || (!Object.prototype.hasOwnProperty.call(output.data, EXEC_MIME_TYPE))) {\n",
              "      return\n",
              "    }\n",
              "\n",
              "    var toinsert = output_area.element.find(\".\" + CLASS_NAME.split(' ')[0]);\n",
              "\n",
              "    if (output.metadata[EXEC_MIME_TYPE][\"id\"] !== undefined) {\n",
              "      toinsert[toinsert.length - 1].firstChild.textContent = output.data[JS_MIME_TYPE];\n",
              "      // store reference to embed id on output_area\n",
              "      output_area._bokeh_element_id = output.metadata[EXEC_MIME_TYPE][\"id\"];\n",
              "    }\n",
              "    if (output.metadata[EXEC_MIME_TYPE][\"server_id\"] !== undefined) {\n",
              "      var bk_div = document.createElement(\"div\");\n",
              "      bk_div.innerHTML = output.data[HTML_MIME_TYPE];\n",
              "      var script_attrs = bk_div.children[0].attributes;\n",
              "      for (var i = 0; i < script_attrs.length; i++) {\n",
              "        toinsert[toinsert.length - 1].firstChild.setAttribute(script_attrs[i].name, script_attrs[i].value);\n",
              "        toinsert[toinsert.length - 1].firstChild.textContent = bk_div.children[0].textContent\n",
              "      }\n",
              "      // store reference to server id on output_area\n",
              "      output_area._bokeh_server_id = output.metadata[EXEC_MIME_TYPE][\"server_id\"];\n",
              "    }\n",
              "  }\n",
              "\n",
              "  function register_renderer(events, OutputArea) {\n",
              "\n",
              "    function append_mime(data, metadata, element) {\n",
              "      // create a DOM node to render to\n",
              "      var toinsert = this.create_output_subarea(\n",
              "        metadata,\n",
              "        CLASS_NAME,\n",
              "        EXEC_MIME_TYPE\n",
              "      );\n",
              "      this.keyboard_manager.register_events(toinsert);\n",
              "      // Render to node\n",
              "      var props = {data: data, metadata: metadata[EXEC_MIME_TYPE]};\n",
              "      render(props, toinsert[toinsert.length - 1]);\n",
              "      element.append(toinsert);\n",
              "      return toinsert\n",
              "    }\n",
              "\n",
              "    /* Handle when an output is cleared or removed */\n",
              "    events.on('clear_output.CodeCell', handleClearOutput);\n",
              "    events.on('delete.Cell', handleClearOutput);\n",
              "\n",
              "    /* Handle when a new output is added */\n",
              "    events.on('output_added.OutputArea', handleAddOutput);\n",
              "\n",
              "    /**\n",
              "     * Register the mime type and append_mime function with output_area\n",
              "     */\n",
              "    OutputArea.prototype.register_mime_type(EXEC_MIME_TYPE, append_mime, {\n",
              "      /* Is output safe? */\n",
              "      safe: true,\n",
              "      /* Index of renderer in `output_area.display_order` */\n",
              "      index: 0\n",
              "    });\n",
              "  }\n",
              "\n",
              "  // register the mime type if in Jupyter Notebook environment and previously unregistered\n",
              "  if (root.Jupyter !== undefined) {\n",
              "    var events = require('base/js/events');\n",
              "    var OutputArea = require('notebook/js/outputarea').OutputArea;\n",
              "\n",
              "    if (OutputArea.prototype.mime_types().indexOf(EXEC_MIME_TYPE) == -1) {\n",
              "      register_renderer(events, OutputArea);\n",
              "    }\n",
              "  }\n",
              "\n",
              "  \n",
              "  if (typeof (root._bokeh_timeout) === \"undefined\" || force === true) {\n",
              "    root._bokeh_timeout = Date.now() + 5000;\n",
              "    root._bokeh_failed_load = false;\n",
              "  }\n",
              "\n",
              "  var NB_LOAD_WARNING = {'data': {'text/html':\n",
              "     \"<div style='background-color: #fdd'>\\n\"+\n",
              "     \"<p>\\n\"+\n",
              "     \"BokehJS does not appear to have successfully loaded. If loading BokehJS from CDN, this \\n\"+\n",
              "     \"may be due to a slow or bad network connection. Possible fixes:\\n\"+\n",
              "     \"</p>\\n\"+\n",
              "     \"<ul>\\n\"+\n",
              "     \"<li>re-rerun `output_notebook()` to attempt to load from CDN again, or</li>\\n\"+\n",
              "     \"<li>use INLINE resources instead, as so:</li>\\n\"+\n",
              "     \"</ul>\\n\"+\n",
              "     \"<code>\\n\"+\n",
              "     \"from bokeh.resources import INLINE\\n\"+\n",
              "     \"output_notebook(resources=INLINE)\\n\"+\n",
              "     \"</code>\\n\"+\n",
              "     \"</div>\"}};\n",
              "\n",
              "  function display_loaded() {\n",
              "    var el = document.getElementById(null);\n",
              "    if (el != null) {\n",
              "      el.textContent = \"BokehJS is loading...\";\n",
              "    }\n",
              "    if (root.Bokeh !== undefined) {\n",
              "      if (el != null) {\n",
              "        el.textContent = \"BokehJS \" + root.Bokeh.version + \" successfully loaded.\";\n",
              "      }\n",
              "    } else if (Date.now() < root._bokeh_timeout) {\n",
              "      setTimeout(display_loaded, 100)\n",
              "    }\n",
              "  }\n",
              "\n",
              "\n",
              "  function run_callbacks() {\n",
              "    try {\n",
              "      root._bokeh_onload_callbacks.forEach(function(callback) {\n",
              "        if (callback != null)\n",
              "          callback();\n",
              "      });\n",
              "    } finally {\n",
              "      delete root._bokeh_onload_callbacks\n",
              "    }\n",
              "    console.debug(\"Bokeh: all callbacks have finished\");\n",
              "  }\n",
              "\n",
              "  function load_libs(css_urls, js_urls, callback) {\n",
              "    if (css_urls == null) css_urls = [];\n",
              "    if (js_urls == null) js_urls = [];\n",
              "\n",
              "    root._bokeh_onload_callbacks.push(callback);\n",
              "    if (root._bokeh_is_loading > 0) {\n",
              "      console.debug(\"Bokeh: BokehJS is being loaded, scheduling callback at\", now());\n",
              "      return null;\n",
              "    }\n",
              "    if (js_urls == null || js_urls.length === 0) {\n",
              "      run_callbacks();\n",
              "      return null;\n",
              "    }\n",
              "    console.debug(\"Bokeh: BokehJS not loaded, scheduling load and callback at\", now());\n",
              "    root._bokeh_is_loading = css_urls.length + js_urls.length;\n",
              "\n",
              "    function on_load() {\n",
              "      root._bokeh_is_loading--;\n",
              "      if (root._bokeh_is_loading === 0) {\n",
              "        console.debug(\"Bokeh: all BokehJS libraries/stylesheets loaded\");\n",
              "        run_callbacks()\n",
              "      }\n",
              "    }\n",
              "\n",
              "    function on_error(url) {\n",
              "      console.error(\"failed to load \" + url);\n",
              "    }\n",
              "\n",
              "    for (let i = 0; i < css_urls.length; i++) {\n",
              "      const url = css_urls[i];\n",
              "      const element = document.createElement(\"link\");\n",
              "      element.onload = on_load;\n",
              "      element.onerror = on_error.bind(null, url);\n",
              "      element.rel = \"stylesheet\";\n",
              "      element.type = \"text/css\";\n",
              "      element.href = url;\n",
              "      console.debug(\"Bokeh: injecting link tag for BokehJS stylesheet: \", url);\n",
              "      document.body.appendChild(element);\n",
              "    }\n",
              "\n",
              "    const hashes = {\"https://cdn.bokeh.org/bokeh/release/bokeh-2.3.3.min.js\": \"dM3QQsP+wXdHg42wTqW85BjZQdLNNIXqlPw/BgKoExPmTG7ZLML4EGqLMfqHT6ON\", \"https://cdn.bokeh.org/bokeh/release/bokeh-tables-2.3.3.min.js\": \"8x57I4YuIfu8XyZfFo0XVr2WAT8EK4rh/uDe3wF7YuW2FNUSNEpJbsPaB1nJ2fz2\", \"https://cdn.bokeh.org/bokeh/release/bokeh-widgets-2.3.3.min.js\": \"3QTqdz9LyAm2i0sG5XTePsHec3UHWwVsrOL68SYRoAXsafvfAyqtQ+h440+qIBhS\"};\n",
              "\n",
              "    for (let i = 0; i < js_urls.length; i++) {\n",
              "      const url = js_urls[i];\n",
              "      const element = document.createElement('script');\n",
              "      element.onload = on_load;\n",
              "      element.onerror = on_error.bind(null, url);\n",
              "      element.async = false;\n",
              "      element.src = url;\n",
              "      if (url in hashes) {\n",
              "        element.crossOrigin = \"anonymous\";\n",
              "        element.integrity = \"sha384-\" + hashes[url];\n",
              "      }\n",
              "      console.debug(\"Bokeh: injecting script tag for BokehJS library: \", url);\n",
              "      document.head.appendChild(element);\n",
              "    }\n",
              "  };\n",
              "\n",
              "  function inject_raw_css(css) {\n",
              "    const element = document.createElement(\"style\");\n",
              "    element.appendChild(document.createTextNode(css));\n",
              "    document.body.appendChild(element);\n",
              "  }\n",
              "\n",
              "  \n",
              "  var js_urls = [\"https://cdn.bokeh.org/bokeh/release/bokeh-2.3.3.min.js\", \"https://cdn.bokeh.org/bokeh/release/bokeh-widgets-2.3.3.min.js\", \"https://cdn.bokeh.org/bokeh/release/bokeh-tables-2.3.3.min.js\"];\n",
              "  var css_urls = [];\n",
              "  \n",
              "\n",
              "  var inline_js = [\n",
              "    function(Bokeh) {\n",
              "      Bokeh.set_log_level(\"info\");\n",
              "    },\n",
              "    function(Bokeh) {\n",
              "    \n",
              "    \n",
              "    }\n",
              "  ];\n",
              "\n",
              "  function run_inline_js() {\n",
              "    \n",
              "    if (root.Bokeh !== undefined || force === true) {\n",
              "      \n",
              "    for (var i = 0; i < inline_js.length; i++) {\n",
              "      inline_js[i].call(root, root.Bokeh);\n",
              "    }\n",
              "    } else if (Date.now() < root._bokeh_timeout) {\n",
              "      setTimeout(run_inline_js, 100);\n",
              "    } else if (!root._bokeh_failed_load) {\n",
              "      console.log(\"Bokeh: BokehJS failed to load within specified timeout.\");\n",
              "      root._bokeh_failed_load = true;\n",
              "    } else if (force !== true) {\n",
              "      var cell = $(document.getElementById(null)).parents('.cell').data().cell;\n",
              "      cell.output_area.append_execute_result(NB_LOAD_WARNING)\n",
              "    }\n",
              "\n",
              "  }\n",
              "\n",
              "  if (root._bokeh_is_loading === 0) {\n",
              "    console.debug(\"Bokeh: BokehJS loaded, going straight to plotting\");\n",
              "    run_inline_js();\n",
              "  } else {\n",
              "    load_libs(css_urls, js_urls, function() {\n",
              "      console.debug(\"Bokeh: BokehJS plotting callback run at\", now());\n",
              "      run_inline_js();\n",
              "    });\n",
              "  }\n",
              "}(window));"
            ],
            "application/vnd.bokehjs_load.v0+json": "\n(function(root) {\n  function now() {\n    return new Date();\n  }\n\n  var force = true;\n\n  if (typeof root._bokeh_onload_callbacks === \"undefined\" || force === true) {\n    root._bokeh_onload_callbacks = [];\n    root._bokeh_is_loading = undefined;\n  }\n\n  \n\n  \n  if (typeof (root._bokeh_timeout) === \"undefined\" || force === true) {\n    root._bokeh_timeout = Date.now() + 5000;\n    root._bokeh_failed_load = false;\n  }\n\n  var NB_LOAD_WARNING = {'data': {'text/html':\n     \"<div style='background-color: #fdd'>\\n\"+\n     \"<p>\\n\"+\n     \"BokehJS does not appear to have successfully loaded. If loading BokehJS from CDN, this \\n\"+\n     \"may be due to a slow or bad network connection. Possible fixes:\\n\"+\n     \"</p>\\n\"+\n     \"<ul>\\n\"+\n     \"<li>re-rerun `output_notebook()` to attempt to load from CDN again, or</li>\\n\"+\n     \"<li>use INLINE resources instead, as so:</li>\\n\"+\n     \"</ul>\\n\"+\n     \"<code>\\n\"+\n     \"from bokeh.resources import INLINE\\n\"+\n     \"output_notebook(resources=INLINE)\\n\"+\n     \"</code>\\n\"+\n     \"</div>\"}};\n\n  function display_loaded() {\n    var el = document.getElementById(null);\n    if (el != null) {\n      el.textContent = \"BokehJS is loading...\";\n    }\n    if (root.Bokeh !== undefined) {\n      if (el != null) {\n        el.textContent = \"BokehJS \" + root.Bokeh.version + \" successfully loaded.\";\n      }\n    } else if (Date.now() < root._bokeh_timeout) {\n      setTimeout(display_loaded, 100)\n    }\n  }\n\n\n  function run_callbacks() {\n    try {\n      root._bokeh_onload_callbacks.forEach(function(callback) {\n        if (callback != null)\n          callback();\n      });\n    } finally {\n      delete root._bokeh_onload_callbacks\n    }\n    console.debug(\"Bokeh: all callbacks have finished\");\n  }\n\n  function load_libs(css_urls, js_urls, callback) {\n    if (css_urls == null) css_urls = [];\n    if (js_urls == null) js_urls = [];\n\n    root._bokeh_onload_callbacks.push(callback);\n    if (root._bokeh_is_loading > 0) {\n      console.debug(\"Bokeh: BokehJS is being loaded, scheduling callback at\", now());\n      return null;\n    }\n    if (js_urls == null || js_urls.length === 0) {\n      run_callbacks();\n      return null;\n    }\n    console.debug(\"Bokeh: BokehJS not loaded, scheduling load and callback at\", now());\n    root._bokeh_is_loading = css_urls.length + js_urls.length;\n\n    function on_load() {\n      root._bokeh_is_loading--;\n      if (root._bokeh_is_loading === 0) {\n        console.debug(\"Bokeh: all BokehJS libraries/stylesheets loaded\");\n        run_callbacks()\n      }\n    }\n\n    function on_error(url) {\n      console.error(\"failed to load \" + url);\n    }\n\n    for (let i = 0; i < css_urls.length; i++) {\n      const url = css_urls[i];\n      const element = document.createElement(\"link\");\n      element.onload = on_load;\n      element.onerror = on_error.bind(null, url);\n      element.rel = \"stylesheet\";\n      element.type = \"text/css\";\n      element.href = url;\n      console.debug(\"Bokeh: injecting link tag for BokehJS stylesheet: \", url);\n      document.body.appendChild(element);\n    }\n\n    const hashes = {\"https://cdn.bokeh.org/bokeh/release/bokeh-2.3.3.min.js\": \"dM3QQsP+wXdHg42wTqW85BjZQdLNNIXqlPw/BgKoExPmTG7ZLML4EGqLMfqHT6ON\", \"https://cdn.bokeh.org/bokeh/release/bokeh-tables-2.3.3.min.js\": \"8x57I4YuIfu8XyZfFo0XVr2WAT8EK4rh/uDe3wF7YuW2FNUSNEpJbsPaB1nJ2fz2\", \"https://cdn.bokeh.org/bokeh/release/bokeh-widgets-2.3.3.min.js\": \"3QTqdz9LyAm2i0sG5XTePsHec3UHWwVsrOL68SYRoAXsafvfAyqtQ+h440+qIBhS\"};\n\n    for (let i = 0; i < js_urls.length; i++) {\n      const url = js_urls[i];\n      const element = document.createElement('script');\n      element.onload = on_load;\n      element.onerror = on_error.bind(null, url);\n      element.async = false;\n      element.src = url;\n      if (url in hashes) {\n        element.crossOrigin = \"anonymous\";\n        element.integrity = \"sha384-\" + hashes[url];\n      }\n      console.debug(\"Bokeh: injecting script tag for BokehJS library: \", url);\n      document.head.appendChild(element);\n    }\n  };\n\n  function inject_raw_css(css) {\n    const element = document.createElement(\"style\");\n    element.appendChild(document.createTextNode(css));\n    document.body.appendChild(element);\n  }\n\n  \n  var js_urls = [\"https://cdn.bokeh.org/bokeh/release/bokeh-2.3.3.min.js\", \"https://cdn.bokeh.org/bokeh/release/bokeh-widgets-2.3.3.min.js\", \"https://cdn.bokeh.org/bokeh/release/bokeh-tables-2.3.3.min.js\"];\n  var css_urls = [];\n  \n\n  var inline_js = [\n    function(Bokeh) {\n      Bokeh.set_log_level(\"info\");\n    },\n    function(Bokeh) {\n    \n    \n    }\n  ];\n\n  function run_inline_js() {\n    \n    if (root.Bokeh !== undefined || force === true) {\n      \n    for (var i = 0; i < inline_js.length; i++) {\n      inline_js[i].call(root, root.Bokeh);\n    }\n    } else if (Date.now() < root._bokeh_timeout) {\n      setTimeout(run_inline_js, 100);\n    } else if (!root._bokeh_failed_load) {\n      console.log(\"Bokeh: BokehJS failed to load within specified timeout.\");\n      root._bokeh_failed_load = true;\n    } else if (force !== true) {\n      var cell = $(document.getElementById(null)).parents('.cell').data().cell;\n      cell.output_area.append_execute_result(NB_LOAD_WARNING)\n    }\n\n  }\n\n  if (root._bokeh_is_loading === 0) {\n    console.debug(\"Bokeh: BokehJS loaded, going straight to plotting\");\n    run_inline_js();\n  } else {\n    load_libs(css_urls, js_urls, function() {\n      console.debug(\"Bokeh: BokehJS plotting callback run at\", now());\n      run_inline_js();\n    });\n  }\n}(window));"
          },
          "metadata": {
            "tags": []
          }
        },
        {
          "output_type": "display_data",
          "data": {
            "text/html": [
              "\n",
              "\n",
              "\n",
              "\n",
              "\n",
              "\n",
              "  <div class=\"bk-root\" id=\"6693de5a-557a-4f9d-be89-2121d4798fef\" data-root-id=\"1002\"></div>\n"
            ]
          },
          "metadata": {
            "tags": []
          }
        },
        {
          "output_type": "display_data",
          "data": {
            "application/javascript": [
              "(function(root) {\n",
              "  function embed_document(root) {\n",
              "    \n",
              "  var docs_json = {\"37f72406-faf0-4f62-88dd-f61551a3f3d9\":{\"defs\":[],\"roots\":{\"references\":[{\"attributes\":{\"below\":[{\"id\":\"1011\"}],\"center\":[{\"id\":\"1014\"},{\"id\":\"1018\"}],\"height\":200,\"left\":[{\"id\":\"1015\"}],\"renderers\":[{\"id\":\"1038\"}],\"title\":{\"id\":\"1040\"},\"toolbar\":{\"id\":\"1025\"},\"width\":500,\"x_range\":{\"id\":\"1003\"},\"x_scale\":{\"id\":\"1007\"},\"y_range\":{\"id\":\"1005\"},\"y_scale\":{\"id\":\"1009\"}},\"id\":\"1002\",\"subtype\":\"Figure\",\"type\":\"Plot\"},{\"attributes\":{},\"id\":\"1007\",\"type\":\"LinearScale\"},{\"attributes\":{},\"id\":\"1020\",\"type\":\"PanTool\"},{\"attributes\":{},\"id\":\"1009\",\"type\":\"LinearScale\"},{\"attributes\":{\"axis\":{\"id\":\"1011\"},\"ticker\":null},\"id\":\"1014\",\"type\":\"Grid\"},{\"attributes\":{},\"id\":\"1043\",\"type\":\"BasicTickFormatter\"},{\"attributes\":{\"bottom\":{\"field\":\"bottom\"},\"fill_alpha\":{\"field\":\"fill_alpha\"},\"fill_color\":{\"value\":\"#d53e4f\"},\"left\":{\"field\":\"start_time\"},\"right\":{\"field\":\"end_time\"},\"top\":{\"field\":\"top\"}},\"id\":\"1036\",\"type\":\"Quad\"},{\"attributes\":{\"active_multi\":null,\"tools\":[{\"id\":\"1019\"},{\"id\":\"1020\"},{\"id\":\"1021\"},{\"id\":\"1022\"},{\"id\":\"1023\"}]},\"id\":\"1025\",\"type\":\"Toolbar\"},{\"attributes\":{},\"id\":\"1042\",\"type\":\"AllLabels\"},{\"attributes\":{\"source\":{\"id\":\"1034\"}},\"id\":\"1039\",\"type\":\"CDSView\"},{\"attributes\":{},\"id\":\"1005\",\"type\":\"DataRange1d\"},{\"attributes\":{\"interval\":12},\"id\":\"1031\",\"type\":\"SingleIntervalTicker\"},{\"attributes\":{\"callback\":null,\"tooltips\":[[\"pitch\",\"@pitch\"],[\"program\",\"@program\"],[\"velo\",\"@velocity\"],[\"duration\",\"@duration\"],[\"start_time\",\"@start_time\"],[\"end_time\",\"@end_time\"],[\"velocity\",\"@velocity\"],[\"fill_alpha\",\"@fill_alpha\"]]},\"id\":\"1019\",\"type\":\"HoverTool\"},{\"attributes\":{},\"id\":\"1047\",\"type\":\"Selection\"},{\"attributes\":{},\"id\":\"1040\",\"type\":\"Title\"},{\"attributes\":{},\"id\":\"1048\",\"type\":\"UnionRenderers\"},{\"attributes\":{\"bottom_units\":\"screen\",\"fill_alpha\":0.5,\"fill_color\":\"lightgrey\",\"left_units\":\"screen\",\"level\":\"overlay\",\"line_alpha\":1.0,\"line_color\":\"black\",\"line_dash\":[4,4],\"line_width\":2,\"right_units\":\"screen\",\"syncable\":false,\"top_units\":\"screen\"},\"id\":\"1024\",\"type\":\"BoxAnnotation\"},{\"attributes\":{\"axis_label\":\"time (sec)\",\"formatter\":{\"id\":\"1046\"},\"major_label_policy\":{\"id\":\"1045\"},\"ticker\":{\"id\":\"1012\"}},\"id\":\"1011\",\"type\":\"LinearAxis\"},{\"attributes\":{\"axis\":{\"id\":\"1015\"},\"dimension\":1,\"ticker\":{\"id\":\"1033\"}},\"id\":\"1018\",\"type\":\"Grid\"},{\"attributes\":{},\"id\":\"1046\",\"type\":\"BasicTickFormatter\"},{\"attributes\":{},\"id\":\"1022\",\"type\":\"ResetTool\"},{\"attributes\":{\"overlay\":{\"id\":\"1024\"}},\"id\":\"1021\",\"type\":\"BoxZoomTool\"},{\"attributes\":{},\"id\":\"1012\",\"type\":\"BasicTicker\"},{\"attributes\":{},\"id\":\"1003\",\"type\":\"DataRange1d\"},{\"attributes\":{\"bottom\":{\"field\":\"bottom\"},\"fill_alpha\":{\"value\":0.1},\"fill_color\":{\"value\":\"#d53e4f\"},\"left\":{\"field\":\"start_time\"},\"line_alpha\":{\"value\":0.1},\"right\":{\"field\":\"end_time\"},\"top\":{\"field\":\"top\"}},\"id\":\"1037\",\"type\":\"Quad\"},{\"attributes\":{},\"id\":\"1045\",\"type\":\"AllLabels\"},{\"attributes\":{\"axis_label\":\"pitch (MIDI)\",\"formatter\":{\"id\":\"1043\"},\"major_label_policy\":{\"id\":\"1042\"},\"ticker\":{\"id\":\"1031\"}},\"id\":\"1015\",\"type\":\"LinearAxis\"},{\"attributes\":{\"interval\":12},\"id\":\"1033\",\"type\":\"SingleIntervalTicker\"},{\"attributes\":{\"data\":{\"bottom\":{\"__ndarray__\":\"zczMzMzMTUDNzMzMzMxPQGZmZmZmplBAZmZmZmYmUkBmZmZmZmYaQGZmZmZmJlBAZmZmZmZmUEDNzMzMzMxHQM3MzMzMzExAZmZmZmYmUUBmZmZmZmZQQGZmZmZmplFAzczMzMxMSUBmZmZmZiZRQGZmZmZm5lBAZmZmZmamUEDNzMzMzMxJQGZmZmZmJlBAzczMzMxMTUDNzMzMzExEQM3MzMzMzE1AZmZmZmZmUEBmZmZmZiZRQM3MzMzMzE1AZmZmZmbmUEBmZmZmZuZQQGZmZmZmZlRAmpmZmZmZMEDNzMzMzExLQM3MzMzMTExAZmZmZmamUEDNzMzMzExPQGZmZmZmZlFAZmZmZmZmUUBmZmZmZiZSQM3MzMzMTE9AZmZmZmZmUEDNzMzMzExOQM3MzMzMTEZAzczMzMzMSEBmZmZmZqZWQGZmZmZmplZAzczMzMxMTkDNzMzMzMxPQM3MzMzMzEZAZmZmZmZmUEBmZmZmZqZQQGZmZmZmplFAzczMzMzMTUDNzMzMzExOQM3MzMzMzE9AZmZmZmYmUEBmZmZmZiZWQM3MzMzMzE9AZmZmZmamUUDNzMzMzMxIQM3MzMzMzE1AZmZmZmbmUEDNzMzMzMxKQGZmZmZmJlBAzczMzMxMREBmZmZmZmZRQM3MzMzMzElAzczMzMzMTkBmZmZmZiZQQGZmZmZmJlFAzczMzMxMS0BmZmZmZiZQQM3MzMzMTEdAzczMzMxMSUDNzMzMzExHQM3MzMzMzEhAZmZmZmYmUEBmZmZmZiZQQM3MzMzMTEpAzczMzMxMS0DNzMzMzMxNQGZmZmZmJlFAzczMzMxMR0BmZmZmZmZQQGZmZmZm5l1AzczMzMxMTEBmZmZmZiZRQGZmZmZmZlFAzczMzMzMSEDNzMzMzExLQGZmZmZm5lBAZmZmZmZmVUDNzMzMzExMQGZmZmZm5lFAzczMzMxMTEBmZmZmZuZQQGZmZmZm5lBAZmZmZmZmUUDNzMzMzMxOQA==\",\"dtype\":\"float64\",\"order\":\"little\",\"shape\":[95]},\"duration\":{\"__ndarray__\":\"AAAAAAAA4D8AAAAAAADgPwAAAAAAAOA/AAAAAAAAwD8AAAAAAADAPwAAAAAAAMA/AAAAAAAAwD8AAAAAAADAPwAAAAAAAMA/AAAAAAAAwD8AAAAAAADQPwAAAAAAAMA/AAAAAAAAwD8AAAAAAADQPwAAAAAAAMA/AAAAAAAAwD8AAAAAAADAPwAAAAAAAMA/AAAAAAAAwD8AAAAAAADAPwAAAAAAAMA/AAAAAAAAwD8AAAAAAADAPwAAAAAAAMA/AAAAAAAAwD8AAAAAAADAPwAAAAAAAMA/AAAAAAAAwD8AAAAAAADAPwAAAAAAAMA/AAAAAAAAwD8AAAAAAADAPwAAAAAAAMA/AAAAAAAAwD8AAAAAAADAPwAAAAAAAMA/AAAAAAAAwD8AAAAAAADAPwAAAAAAAMA/AAAAAAAAwD8AAAAAAADAPwAAAAAAAMA/AAAAAAAAwD8AAAAAAADAPwAAAAAAAMA/AAAAAAAA0D8AAAAAAADAPwAAAAAAAMA/AAAAAAAAwD8AAAAAAADAPwAAAAAAAMA/AAAAAAAAwD8AAAAAAADAPwAAAAAAAMA/AAAAAAAAwD8AAAAAAADAPwAAAAAAANA/AAAAAAAAwD8AAAAAAADAPwAAAAAAAMA/AAAAAAAAwD8AAAAAAADAPwAAAAAAAMA/AAAAAAAAwD8AAAAAAADAPwAAAAAAAMA/AAAAAAAAwD8AAAAAAADAPwAAAAAAAMA/AAAAAAAAwD8AAAAAAADAPwAAAAAAAMA/AAAAAAAAwD8AAAAAAADAPwAAAAAAAMA/AAAAAAAAwD8AAAAAAADAPwAAAAAAAMA/AAAAAAAAwD8AAAAAAADAPwAAAAAAAMA/AAAAAAAAwD8AAAAAAADAPwAAAAAAANA/AAAAAAAAwD8AAAAAAADAPwAAAAAAAMA/AAAAAAAAwD8AAAAAAADAPwAAAAAAAMA/AAAAAAAAwD8AAAAAAADAPwAAAAAAAMA/AAAAAAAAwD8AAAAAAADAPw==\",\"dtype\":\"float64\",\"order\":\"little\",\"shape\":[95]},\"end_time\":{\"__ndarray__\":\"AAAAAAAA4D8AAAAAAADgPwAAAAAAAOA/AAAAAAAA6D8AAAAAAAD2PwAAAAAAAPo/AAAAAAAA/j8AAAAAAAAHQAAAAAAAAAhAAAAAAAAACUAAAAAAAAAPQAAAAAAAAA9AAAAAAACAEUAAAAAAAAASQAAAAAAAABZAAAAAAAAAGEAAAAAAAAAZQAAAAAAAABlAAAAAAACAGUAAAAAAAIAaQAAAAAAAgBtAAAAAAACAG0AAAAAAAIAbQAAAAAAAABxAAAAAAAAAHEAAAAAAAAAcQAAAAAAAgB1AAAAAAAAAHkAAAAAAAIAfQAAAAAAAQCBAAAAAAABAIEAAAAAAAIAhQAAAAAAAgCFAAAAAAACAIUAAAAAAAMAhQAAAAAAAACJAAAAAAABAIkAAAAAAAIAjQAAAAAAAgCRAAAAAAADAJEAAAAAAAMAkQAAAAAAAwCRAAAAAAABAJkAAAAAAAMAnQAAAAAAAwClAAAAAAADAKUAAAAAAAMApQAAAAAAAwClAAAAAAABAKkAAAAAAAIAqQAAAAAAAwCpAAAAAAABAK0AAAAAAAEArQAAAAAAAACxAAAAAAACALEAAAAAAAIAtQAAAAAAAgC5AAAAAAAAAL0AAAAAAAMAvQAAAAAAAQDBAAAAAAACAMEAAAAAAAOAwQAAAAAAAIDFAAAAAAAAgMUAAAAAAACAxQAAAAAAAIDJAAAAAAADgMkAAAAAAAOAyQAAAAAAAgDNAAAAAAADAM0AAAAAAAOAzQAAAAAAA4DNAAAAAAAAANEAAAAAAAAA0QAAAAAAAoDRAAAAAAADANEAAAAAAAMA0QAAAAAAA4DRAAAAAAACgNUAAAAAAAKA1QAAAAAAAoDVAAAAAAADANUAAAAAAAMA1QAAAAAAAwDVAAAAAAADgNUAAAAAAACA2QAAAAAAAQDZAAAAAAABANkAAAAAAAIA4QAAAAAAAgDhAAAAAAACgOEAAAAAAAKA4QAAAAAAAoDhAAAAAAACgOEAAAAAAAMA4QA==\",\"dtype\":\"float64\",\"order\":\"little\",\"shape\":[95]},\"fill_alpha\":{\"__ndarray__\":\"AAAAAAAA8D8AAAAAAADwPwAAAAAAAPA/AAAAAAAA8D8AAAAAAADwPwAAAAAAAPA/AAAAAAAA8D8AAAAAAADwPwAAAAAAAPA/AAAAAAAA8D8AAAAAAADwPwAAAAAAAPA/AAAAAAAA8D8AAAAAAADwPwAAAAAAAPA/AAAAAAAA8D8AAAAAAADwPwAAAAAAAPA/AAAAAAAA8D8AAAAAAADwPwAAAAAAAPA/AAAAAAAA8D8AAAAAAADwPwAAAAAAAPA/AAAAAAAA8D8AAAAAAADwPwAAAAAAAPA/AAAAAAAA8D8AAAAAAADwPwAAAAAAAPA/AAAAAAAA8D8AAAAAAADwPwAAAAAAAPA/AAAAAAAA8D8AAAAAAADwPwAAAAAAAPA/AAAAAAAA8D8AAAAAAADwPwAAAAAAAPA/AAAAAAAA8D8AAAAAAADwPwAAAAAAAPA/AAAAAAAA8D8AAAAAAADwPwAAAAAAAPA/AAAAAAAA8D8AAAAAAADwPwAAAAAAAPA/AAAAAAAA8D8AAAAAAADwPwAAAAAAAPA/AAAAAAAA8D8AAAAAAADwPwAAAAAAAPA/AAAAAAAA8D8AAAAAAADwPwAAAAAAAPA/AAAAAAAA8D8AAAAAAADwPwAAAAAAAPA/AAAAAAAA8D8AAAAAAADwPwAAAAAAAPA/AAAAAAAA8D8AAAAAAADwPwAAAAAAAPA/AAAAAAAA8D8AAAAAAADwPwAAAAAAAPA/AAAAAAAA8D8AAAAAAADwPwAAAAAAAPA/AAAAAAAA8D8AAAAAAADwPwAAAAAAAPA/AAAAAAAA8D8AAAAAAADwPwAAAAAAAPA/AAAAAAAA8D8AAAAAAADwPwAAAAAAAPA/AAAAAAAA8D8AAAAAAADwPwAAAAAAAPA/AAAAAAAA8D8AAAAAAADwPwAAAAAAAPA/AAAAAAAA8D8AAAAAAADwPwAAAAAAAPA/AAAAAAAA8D8AAAAAAADwPwAAAAAAAPA/AAAAAAAA8D8AAAAAAADwPw==\",\"dtype\":\"float64\",\"order\":\"little\",\"shape\":[95]},\"index\":[0,1,2,3,4,5,6,7,8,9,10,11,12,13,14,15,16,17,18,19,20,21,22,23,24,25,26,27,28,29,30,31,32,33,34,35,36,37,38,39,40,41,42,43,44,45,46,47,48,49,50,51,52,53,54,55,56,57,58,59,60,61,62,63,64,65,66,67,68,69,70,71,72,73,74,75,76,77,78,79,80,81,82,83,84,85,86,87,88,89,90,91,92,93,94],\"instrument\":[0,0,0,0,0,0,0,0,0,0,0,0,0,0,0,0,0,0,0,0,0,0,0,0,0,0,0,0,0,0,0,0,0,0,0,0,0,0,0,0,0,0,0,0,0,0,0,0,0,0,0,0,0,0,0,0,0,0,0,0,0,0,0,0,0,0,0,0,0,0,0,0,0,0,0,0,0,0,0,0,0,0,0,0,0,0,0,0,0,0,0,0,0,0,0],\"pitch\":[60,64,67,73,7,65,66,48,58,69,66,71,51,69,68,67,52,65,59,41,60,66,69,60,68,68,82,17,55,57,67,63,70,70,73,63,66,61,45,50,91,91,61,64,46,66,67,71,60,61,64,65,89,64,71,50,60,68,54,65,41,70,52,62,65,69,55,65,47,51,47,50,65,65,53,55,60,69,47,66,120,57,69,70,50,55,68,86,57,72,57,68,68,70,62],\"program\":[0,0,0,0,0,0,0,0,0,0,0,0,0,0,0,0,0,0,0,0,0,0,0,0,0,0,0,0,0,0,0,0,0,0,0,0,0,0,0,0,0,0,0,0,0,0,0,0,0,0,0,0,0,0,0,0,0,0,0,0,0,0,0,0,0,0,0,0,0,0,0,0,0,0,0,0,0,0,0,0,0,0,0,0,0,0,0,0,0,0,0,0,0,0,0],\"start_time\":{\"__ndarray__\":\"AAAAAAAAAAAAAAAAAAAAAAAAAAAAAAAAAAAAAAAA5D8AAAAAAAD0PwAAAAAAAPg/AAAAAAAA/D8AAAAAAAAGQAAAAAAAAAdAAAAAAAAACEAAAAAAAAANQAAAAAAAAA5AAAAAAAAAEUAAAAAAAAARQAAAAAAAgBVAAAAAAACAF0AAAAAAAIAYQAAAAAAAgBhAAAAAAAAAGUAAAAAAAAAaQAAAAAAAABtAAAAAAAAAG0AAAAAAAAAbQAAAAAAAgBtAAAAAAACAG0AAAAAAAIAbQAAAAAAAAB1AAAAAAACAHUAAAAAAAAAfQAAAAAAAACBAAAAAAAAAIEAAAAAAAEAhQAAAAAAAQCFAAAAAAABAIUAAAAAAAIAhQAAAAAAAwCFAAAAAAAAAIkAAAAAAAEAjQAAAAAAAQCRAAAAAAACAJEAAAAAAAIAkQAAAAAAAgCRAAAAAAAAAJkAAAAAAAIAnQAAAAAAAgClAAAAAAABAKUAAAAAAAIApQAAAAAAAgClAAAAAAAAAKkAAAAAAAEAqQAAAAAAAgCpAAAAAAAAAK0AAAAAAAAArQAAAAAAAwCtAAAAAAABALEAAAAAAAEAtQAAAAAAAAC5AAAAAAADALkAAAAAAAIAvQAAAAAAAIDBAAAAAAABgMEAAAAAAAMAwQAAAAAAAADFAAAAAAAAAMUAAAAAAAAAxQAAAAAAAADJAAAAAAADAMkAAAAAAAMAyQAAAAAAAYDNAAAAAAACgM0AAAAAAAMAzQAAAAAAAwDNAAAAAAADgM0AAAAAAAOAzQAAAAAAAgDRAAAAAAACgNEAAAAAAAKA0QAAAAAAAwDRAAAAAAACANUAAAAAAAIA1QAAAAAAAgDVAAAAAAACgNUAAAAAAAKA1QAAAAAAAgDVAAAAAAADANUAAAAAAAAA2QAAAAAAAIDZAAAAAAAAgNkAAAAAAAGA4QAAAAAAAYDhAAAAAAACAOEAAAAAAAIA4QAAAAAAAgDhAAAAAAACAOEAAAAAAAKA4QA==\",\"dtype\":\"float64\",\"order\":\"little\",\"shape\":[95]},\"top\":{\"__ndarray__\":\"MzMzMzMzTkCamZmZmRlQQJqZmZmZ2VBAmpmZmZlZUkCamZmZmZkdQJqZmZmZWVBAmpmZmZmZUEAzMzMzMzNIQDMzMzMzM01AmpmZmZlZUUCamZmZmZlQQJqZmZmZ2VFAMzMzMzOzSUCamZmZmVlRQJqZmZmZGVFAmpmZmZnZUEAzMzMzMzNKQJqZmZmZWVBAMzMzMzOzTUAzMzMzM7NEQDMzMzMzM05AmpmZmZmZUECamZmZmVlRQDMzMzMzM05AmpmZmZkZUUCamZmZmRlRQJqZmZmZmVRAZmZmZmZmMUAzMzMzM7NLQDMzMzMzs0xAmpmZmZnZUEAzMzMzM7NPQJqZmZmZmVFAmpmZmZmZUUCamZmZmVlSQDMzMzMzs09AmpmZmZmZUEAzMzMzM7NOQDMzMzMzs0ZAMzMzMzMzSUCamZmZmdlWQJqZmZmZ2VZAMzMzMzOzTkCamZmZmRlQQDMzMzMzM0dAmpmZmZmZUECamZmZmdlQQJqZmZmZ2VFAMzMzMzMzTkAzMzMzM7NOQJqZmZmZGVBAmpmZmZlZUECamZmZmVlWQJqZmZmZGVBAmpmZmZnZUUAzMzMzMzNJQDMzMzMzM05AmpmZmZkZUUAzMzMzMzNLQJqZmZmZWVBAMzMzMzOzRECamZmZmZlRQDMzMzMzM0pAMzMzMzMzT0CamZmZmVlQQJqZmZmZWVFAMzMzMzOzS0CamZmZmVlQQDMzMzMzs0dAMzMzMzOzSUAzMzMzM7NHQDMzMzMzM0lAmpmZmZlZUECamZmZmVlQQDMzMzMzs0pAMzMzMzOzS0AzMzMzMzNOQJqZmZmZWVFAMzMzMzOzR0CamZmZmZlQQJqZmZmZGV5AMzMzMzOzTECamZmZmVlRQJqZmZmZmVFAMzMzMzMzSUAzMzMzM7NLQJqZmZmZGVFAmpmZmZmZVUAzMzMzM7NMQJqZmZmZGVJAMzMzMzOzTECamZmZmRlRQJqZmZmZGVFAmpmZmZmZUUAzMzMzMzNPQA==\",\"dtype\":\"float64\",\"order\":\"little\",\"shape\":[95]},\"velocity\":[100,100,100,100,100,100,100,100,100,100,100,100,100,100,100,100,100,100,100,100,100,100,100,100,100,100,100,100,100,100,100,100,100,100,100,100,100,100,100,100,100,100,100,100,100,100,100,100,100,100,100,100,100,100,100,100,100,100,100,100,100,100,100,100,100,100,100,100,100,100,100,100,100,100,100,100,100,100,100,100,100,100,100,100,100,100,100,100,100,100,100,100,100,100,100]},\"selected\":{\"id\":\"1047\"},\"selection_policy\":{\"id\":\"1048\"}},\"id\":\"1034\",\"type\":\"ColumnDataSource\"},{\"attributes\":{\"data_source\":{\"id\":\"1034\"},\"glyph\":{\"id\":\"1036\"},\"hover_glyph\":null,\"muted_glyph\":null,\"nonselection_glyph\":{\"id\":\"1037\"},\"view\":{\"id\":\"1039\"}},\"id\":\"1038\",\"type\":\"GlyphRenderer\"},{\"attributes\":{},\"id\":\"1023\",\"type\":\"SaveTool\"}],\"root_ids\":[\"1002\"]},\"title\":\"Bokeh Application\",\"version\":\"2.3.3\"}};\n",
              "  var render_items = [{\"docid\":\"37f72406-faf0-4f62-88dd-f61551a3f3d9\",\"root_ids\":[\"1002\"],\"roots\":{\"1002\":\"6693de5a-557a-4f9d-be89-2121d4798fef\"}}];\n",
              "  root.Bokeh.embed.embed_items_notebook(docs_json, render_items);\n",
              "\n",
              "  }\n",
              "  if (root.Bokeh !== undefined) {\n",
              "    embed_document(root);\n",
              "  } else {\n",
              "    var attempts = 0;\n",
              "    var timer = setInterval(function(root) {\n",
              "      if (root.Bokeh !== undefined) {\n",
              "        clearInterval(timer);\n",
              "        embed_document(root);\n",
              "      } else {\n",
              "        attempts++;\n",
              "        if (attempts > 100) {\n",
              "          clearInterval(timer);\n",
              "          console.log(\"Bokeh: ERROR: Unable to run BokehJS code because BokehJS library is missing\");\n",
              "        }\n",
              "      }\n",
              "    }, 10, root)\n",
              "  }\n",
              "})(window);"
            ],
            "application/vnd.bokehjs_exec.v0+json": ""
          },
          "metadata": {
            "tags": [],
            "application/vnd.bokehjs_exec.v0+json": {
              "id": "1002"
            }
          }
        }
      ]
    },
    {
      "cell_type": "markdown",
      "metadata": {
        "id": "YNOlRkY23UZf"
      },
      "source": [
        "#Generation from a Bundle\n",
        "Creating songs from a saved bundle is just as easy as changing run_dir for bundle_file, with the folder path where the bundle is stored.\n"
      ]
    },
    {
      "cell_type": "code",
      "metadata": {
        "id": "Zxy04r4U3c3o"
      },
      "source": [
        "#generate new sequences with the train model (budle_file)\n",
        "!polyphony_rnn_generate \\\n",
        "--config='polyphony_rnn ' \\\n",
        "--bundle_file=/content/drive/MyDrive/midirun/run1/dowland_rnn_128.mag \\\n",
        "--output_dir=/content/drive/MyDrive/midiout/poly_train1 \\\n",
        "--num_outputs=3 \\\n",
        "--num_steps=100 \\\n",
        "--condition_on_primer=False \\\n",
        "--inject_primer_during_generation=False"
      ],
      "execution_count": null,
      "outputs": []
    }
  ]
}